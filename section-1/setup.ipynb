{
 "cells": [
  {
   "cell_type": "markdown",
   "metadata": {
    "collapsed": true
   },
   "source": [
    "## Virtualbox Virtual Machine\n",
    "\n",
    "Install Virtualbox from [https://virtualbox.org/wiki/Downloads](https://virtualbox.org/wiki/Downloads)\n",
    "\n",
    "Download Ubuntu server ISO from [https://ubuntu.com/download/server](https://ubuntu.com/download/server)\n",
    "\n",
    "In VirtualBox, select Machine / New and set up a Linux, Ubuntu 64-bit system. Set however much RAM you can spare on your system (I use 8GB on my 16GB system – at least 2GB to be safe.) Create a virtual drive wherever you can spare the space; you’ll need at least 20GB for this course. Start it, and select the ISO file you downloaded for Ubuntu to start the Ubuntu installation process. Go with the defaults unless you have reason to do otherwise, and enter whatever username and password you want for your root account. When prompted to write changes to disk, select “yes”. You can change selections using the TAB key, and confirm selections with ENTER.\n",
    "\n",
    "In VirtualBox, bring up the settings for your Ubuntu virtual machine, and select Network, then advanced, and hit the port forwarding button.  Add an entry for “Elasticsearch” for TCP on host IP 127.0.0.1, and enter 9200 for the host port and guest port. Leave the Guest IP blank. Also add a “Kibana” entry in the same way, with port 5601, and an “SSH” entry, with port 22.\n",
    "\n",
    "NOTE: If you are running the Avast anti-virus program, it will conflict with VirtualBox. There is a registry hack that gets around the problem, but you might consider switching to Microsoft’s free Windows Defender instead while using this course.\n",
    "\n",
    "Don’t forget to check your BIOS settings if you’re having trouble. Virtualization needs to be enabled, and I’ve seen reports of “Hyper-V” virtualization causing problems if it’s on."
   ]
  },
  {
   "cell_type": "markdown",
   "metadata": {},
   "source": [
    "## Installing Elasticsearch\n",
    "\n",
    "Start your Ubuntu virtual machine and log in.\n",
    "\n",
    "First we need a Java environment:"
   ]
  },
  {
   "cell_type": "code",
   "execution_count": 1,
   "metadata": {},
   "outputs": [
    {
     "ename": "SyntaxError",
     "evalue": "invalid syntax (<ipython-input-1-3f3c36f60b70>, line 1)",
     "output_type": "error",
     "traceback": [
      "\u001b[0;36m  File \u001b[0;32m\"<ipython-input-1-3f3c36f60b70>\"\u001b[0;36m, line \u001b[0;32m1\u001b[0m\n\u001b[0;31m    sudo apt-get install default-jdk\u001b[0m\n\u001b[0m           ^\u001b[0m\n\u001b[0;31mSyntaxError\u001b[0m\u001b[0;31m:\u001b[0m invalid syntax\n"
     ]
    }
   ],
   "source": [
    "sudo apt-get install default-jdk"
   ]
  },
  {
   "cell_type": "markdown",
   "metadata": {},
   "source": [
    "Now we can install Elasticsearch itself:"
   ]
  },
  {
   "cell_type": "code",
   "execution_count": 1,
   "metadata": {},
   "outputs": [
    {
     "ename": "SyntaxError",
     "evalue": "invalid syntax (<ipython-input-1-520dd5968b22>, line 1)",
     "output_type": "error",
     "traceback": [
      "\u001b[0;36m  File \u001b[0;32m\"<ipython-input-1-520dd5968b22>\"\u001b[0;36m, line \u001b[0;32m1\u001b[0m\n\u001b[0;31m    wget -qO - https://artifacts.elastic.co/GPG-KEY-elasticsearch | sudo apt-key add -\u001b[0m\n\u001b[0m                      ^\u001b[0m\n\u001b[0;31mSyntaxError\u001b[0m\u001b[0;31m:\u001b[0m invalid syntax\n"
     ]
    }
   ],
   "source": [
    "wget -qO - https://artifacts.elastic.co/GPG-KEY-elasticsearch | sudo apt-key add -\n",
    "sudo apt-get install apt-transport-https\n",
    "echo \"deb https://artifacts.elastic.co/packages/6.x/apt stable main\" | sudo tee -a /etc/apt/sources.list.d/elastic-6.x.list\n",
    "sudo apt-get update && sudo apt-get install elasticsearch"
   ]
  },
  {
   "cell_type": "markdown",
   "metadata": {},
   "source": [
    "Edit the elasticsearch.yml file:"
   ]
  },
  {
   "cell_type": "code",
   "execution_count": 2,
   "metadata": {},
   "outputs": [
    {
     "ename": "SyntaxError",
     "evalue": "invalid syntax (<ipython-input-2-5c946c675f27>, line 1)",
     "output_type": "error",
     "traceback": [
      "\u001b[0;36m  File \u001b[0;32m\"<ipython-input-2-5c946c675f27>\"\u001b[0;36m, line \u001b[0;32m1\u001b[0m\n\u001b[0;31m    sudo vi /etc/elasticsearch/elasticsearch.yml\u001b[0m\n\u001b[0m          ^\u001b[0m\n\u001b[0;31mSyntaxError\u001b[0m\u001b[0;31m:\u001b[0m invalid syntax\n"
     ]
    }
   ],
   "source": [
    "sudo vi /etc/elasticsearch/elasticsearch.yml"
   ]
  },
  {
   "cell_type": "markdown",
   "metadata": {},
   "source": [
    "Change network.host to 0.0.0.0 (in vi, use the arrow keys to where you want to edit, then hit “i” to enter “insert mode” and make your edits. When done, hit ESC to exit “insert mode”, then type :wq to write your changes and quit vi.)"
   ]
  },
  {
   "cell_type": "code",
   "execution_count": 3,
   "metadata": {},
   "outputs": [
    {
     "ename": "SyntaxError",
     "evalue": "invalid syntax (<ipython-input-3-75562bea9b5d>, line 1)",
     "output_type": "error",
     "traceback": [
      "\u001b[0;36m  File \u001b[0;32m\"<ipython-input-3-75562bea9b5d>\"\u001b[0;36m, line \u001b[0;32m1\u001b[0m\n\u001b[0;31m    sudo /bin/systemctl daemon-reload\u001b[0m\n\u001b[0m                             ^\u001b[0m\n\u001b[0;31mSyntaxError\u001b[0m\u001b[0;31m:\u001b[0m invalid syntax\n"
     ]
    }
   ],
   "source": [
    "sudo /bin/systemctl daemon-reload\n",
    "sudo /bin/systemctl enable elasticsearch.service\n",
    "sudo /bin/systemctl start elasticsearch.service"
   ]
  },
  {
   "cell_type": "markdown",
   "metadata": {},
   "source": [
    "Elasticsearch is now up and running!\n",
    "\n",
    "Hit [127.0.0.1:9200](127.0.0.1:9200) from a browser to test it."
   ]
  },
  {
   "cell_type": "code",
   "execution_count": null,
   "metadata": {},
   "outputs": [],
   "source": []
  }
 ],
 "metadata": {
  "kernelspec": {
   "display_name": "Python 3",
   "language": "python",
   "name": "python3"
  },
  "language_info": {
   "codemirror_mode": {
    "name": "ipython",
    "version": 3
   },
   "file_extension": ".py",
   "mimetype": "text/x-python",
   "name": "python",
   "nbconvert_exporter": "python",
   "pygments_lexer": "ipython3",
   "version": "3.6.1"
  }
 },
 "nbformat": 4,
 "nbformat_minor": 1
}
